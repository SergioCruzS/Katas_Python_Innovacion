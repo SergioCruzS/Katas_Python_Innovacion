{
 "cells": [
  {
   "cell_type": "markdown",
   "metadata": {},
   "source": [
    "# Kata 8\n",
    "### Ejercicio 1: Creación de diccionarios de Python\n",
    "Sergio Gregorio Cruz Soto"
   ]
  },
  {
   "cell_type": "code",
   "execution_count": 2,
   "metadata": {},
   "outputs": [],
   "source": [
    "#Creación del diccionario\n",
    "planet ={\n",
    "    'name' : 'Mars',\n",
    "    'moons' : 2\n",
    "}"
   ]
  },
  {
   "cell_type": "code",
   "execution_count": 8,
   "metadata": {},
   "outputs": [
    {
     "name": "stdout",
     "output_type": "stream",
     "text": [
      "El planeta Mars tiene 2 lunas.\n"
     ]
    }
   ],
   "source": [
    "#Mostrar el nombre del planeta y el número de lunas que tiene\n",
    "print('El planeta %s tiene %s lunas.'%(planet.get('name'),planet['moons']))"
   ]
  },
  {
   "cell_type": "code",
   "execution_count": 9,
   "metadata": {},
   "outputs": [
    {
     "name": "stdout",
     "output_type": "stream",
     "text": [
      "El planeta Mars tiene una circunferencia polar de: 6752 km\n"
     ]
    }
   ],
   "source": [
    "# Agrega la clave circunferencia con los datos proporcionados previamente\n",
    "planet['circunferencia (km)'] ={\n",
    "    'polar':6752,\n",
    "    'equatorial':6792\n",
    "}\n",
    "#Imprime el nombre del planeta con su circunferencia polar.\n",
    "print('El planeta %s tiene una circunferencia polar de: %s km'%(planet['name'],planet['circunferencia (km)'].get('polar')))"
   ]
  },
  {
   "cell_type": "markdown",
   "metadata": {},
   "source": [
    "### Ejercicio 2: Programación dinámica con diccionarios\n",
    "Ejercicio: Cálculo de valores"
   ]
  },
  {
   "cell_type": "code",
   "execution_count": 14,
   "metadata": {},
   "outputs": [],
   "source": [
    "# Planets and moons\n",
    "\n",
    "planet_moons = {\n",
    "    'mercury': 0,\n",
    "    'venus': 0,\n",
    "    'earth': 1,\n",
    "    'mars': 2,\n",
    "    'jupiter': 79,\n",
    "    'saturn': 82,\n",
    "    'uranus': 27,\n",
    "    'neptune': 14,\n",
    "    'pluto': 5,\n",
    "    'haumea': 2,\n",
    "    'makemake': 1,\n",
    "    'eris': 1\n",
    "}"
   ]
  },
  {
   "cell_type": "markdown",
   "metadata": {},
   "source": [
    "Agrega el código a continuación para determinar el número de lunas. Comienza almacenando el valor values de planet_moons en una variable denominada moons. A continuación, almacena el número de planetas en una variable denominada planets."
   ]
  },
  {
   "cell_type": "code",
   "execution_count": 19,
   "metadata": {},
   "outputs": [
    {
     "name": "stdout",
     "output_type": "stream",
     "text": [
      "El promedio de lunas es: 17.833333333333332\n"
     ]
    }
   ],
   "source": [
    "moons = planet_moons.values()\n",
    "planets = planet_moons.keys()\n",
    "total_moons = 0\n",
    "\n",
    "for moon in moons:\n",
    "    total_moons += moon\n",
    "\n",
    "promedio = total_moons/len(planets)\n",
    "#Mostrando el promedio\n",
    "print('El promedio de lunas es: %s'%promedio)"
   ]
  }
 ],
 "metadata": {
  "interpreter": {
   "hash": "598f1c9c55308676e3da65fe009371e5afc37e9a8b7778ec641b655b8ae57715"
  },
  "kernelspec": {
   "display_name": "Python 3.10.2 64-bit (windows store)",
   "language": "python",
   "name": "python3"
  },
  "language_info": {
   "codemirror_mode": {
    "name": "ipython",
    "version": 3
   },
   "file_extension": ".py",
   "mimetype": "text/x-python",
   "name": "python",
   "nbconvert_exporter": "python",
   "pygments_lexer": "ipython3",
   "version": "3.10.2"
  },
  "orig_nbformat": 4
 },
 "nbformat": 4,
 "nbformat_minor": 2
}
