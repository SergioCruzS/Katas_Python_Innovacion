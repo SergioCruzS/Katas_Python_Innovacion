{
 "cells": [
  {
   "cell_type": "markdown",
   "metadata": {},
   "source": [
    "# Kata 9\n",
    "### Ejercicio: Uso de funciones en Python\n",
    "### Ejercicio 1: Trabajar con argumentos en funciones\n",
    "Sergio Gregorio Cruz Soto"
   ]
  },
  {
   "cell_type": "code",
   "execution_count": 7,
   "metadata": {},
   "outputs": [],
   "source": [
    "#funcion que recibe 3 ranques de combustible y muestra el promedio\n",
    "\n",
    "def reporte_promedio(tanque1,tanque2,tanque3):\n",
    "    return \"El promedio de los tanques es: %s\"%((tanque1+tanque2+tanque3)/3)"
   ]
  },
  {
   "cell_type": "code",
   "execution_count": 8,
   "metadata": {},
   "outputs": [
    {
     "name": "stdout",
     "output_type": "stream",
     "text": [
      "El promedio de los tanques es: 36.666666666666664\n"
     ]
    }
   ],
   "source": [
    "print(reporte_promedio(60,40,10))"
   ]
  },
  {
   "cell_type": "code",
   "execution_count": 9,
   "metadata": {},
   "outputs": [
    {
     "data": {
      "text/plain": [
       "<function __main__.promedio_tanque(tanque1, tanque2, tanque3)>"
      ]
     },
     "execution_count": 9,
     "metadata": {},
     "output_type": "execute_result"
    }
   ],
   "source": [
    "#funcion promedio\n",
    "def promedio_tanque(tanque1,tanque2,tanque3):\n",
    "    return (tanque1+tanque2+tanque3)/3"
   ]
  },
  {
   "cell_type": "code",
   "execution_count": 10,
   "metadata": {},
   "outputs": [],
   "source": [
    "def reporte_promedioAct(tanque1,tanque2,tanque3):\n",
    "    return \"El promedio de los tanques es: %s\"%(promedio_tanque(tanque1,tanque2,tanque3))"
   ]
  },
  {
   "cell_type": "code",
   "execution_count": 11,
   "metadata": {},
   "outputs": [
    {
     "name": "stdout",
     "output_type": "stream",
     "text": [
      "El promedio de los tanques es: El promedio de los tanques es: 51.333333333333336\n"
     ]
    }
   ],
   "source": [
    "print(reporte_promedioAct(50,70,34))"
   ]
  },
  {
   "cell_type": "markdown",
   "metadata": {},
   "source": [
    "### Ejercicio 2: Trabajo con argumentos de palabra clave\n",
    "Ejercicio : Trabajar con argumentos de palabras clave en funciones"
   ]
  },
  {
   "cell_type": "code",
   "execution_count": 15,
   "metadata": {},
   "outputs": [],
   "source": [
    "#Función de informe preciso de la misión\n",
    "def reporte(prelanzamiento,tiempo_vuelo,destino,tanque_ext,tanque_int):\n",
    "    return 'La nave partirá con destino a %s \\nLa hora de prelanzamiento es: %s \\nCon un tiempo de vuelo estimado en %s hrs.\\nCon un total de %s galones de combustible.'%(destino,prelanzamiento,tiempo_vuelo,(tanque_ext+tanque_int))\n",
    "\n"
   ]
  },
  {
   "cell_type": "code",
   "execution_count": 16,
   "metadata": {},
   "outputs": [],
   "source": [
    "def reporte(*tiempo_vuelo,destino,**tanques):\n",
    "    return 'La nave partirá con destino a %s \\nCon un tiempo estimado en %s \\nCon un total de %s galones de combustible.'%(destino,sum(tiempo_vuelo),sum(tanques))"
   ]
  },
  {
   "cell_type": "code",
   "execution_count": 25,
   "metadata": {},
   "outputs": [
    {
     "name": "stdout",
     "output_type": "stream",
     "text": [
      "La nave partirá con destino a Moon \n",
      "Con un tiempo estimado en 74 hrs \n",
      "Con un total de 500000 galones de combustible. \n",
      "Distribuidos en: \n",
      "main con 300000 galones de combustible restantes\n",
      "external con 200000 galones de combustible restantes\n",
      "\n"
     ]
    }
   ],
   "source": [
    "def reporte(destino,*tiempo_vuelo,**tanques):\n",
    "    reporte_comp = 'La nave partirá con destino a %s \\nCon un tiempo estimado en %s hrs \\nCon un total de %s galones de combustible. \\nDistribuidos en: \\n'%(destino,sum(tiempo_vuelo),sum(tanques.values()))\n",
    "    for tanque, galones in tanques.items():\n",
    "        reporte_comp += '%s con %s galones de combustible restantes\\n'%(tanque,galones)\n",
    "    return reporte_comp\n",
    "\n",
    "print(reporte(\"Moon\",8, 11, 55, main=300000, external=200000))"
   ]
  }
 ],
 "metadata": {
  "interpreter": {
   "hash": "598f1c9c55308676e3da65fe009371e5afc37e9a8b7778ec641b655b8ae57715"
  },
  "kernelspec": {
   "display_name": "Python 3.10.2 64-bit (windows store)",
   "language": "python",
   "name": "python3"
  },
  "language_info": {
   "codemirror_mode": {
    "name": "ipython",
    "version": 3
   },
   "file_extension": ".py",
   "mimetype": "text/x-python",
   "name": "python",
   "nbconvert_exporter": "python",
   "pygments_lexer": "ipython3",
   "version": "3.10.2"
  },
  "orig_nbformat": 4
 },
 "nbformat": 4,
 "nbformat_minor": 2
}
