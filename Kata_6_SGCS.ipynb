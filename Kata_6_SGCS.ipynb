{
 "cells": [
  {
   "cell_type": "markdown",
   "metadata": {},
   "source": [
    "# Kata 6\n",
    "### Ejercicio1: Crear y usar listas de Python\n",
    "Sergio Gregorio Cruz Soto"
   ]
  },
  {
   "cell_type": "code",
   "execution_count": 1,
   "metadata": {},
   "outputs": [],
   "source": [
    "#Crear variable y agregar 8 planetas\n",
    "planets = ['Mercurio','Venus','Tierra','Marte','Júpiter','Saturno','Urano','Neptuno']"
   ]
  },
  {
   "cell_type": "code",
   "execution_count": 2,
   "metadata": {},
   "outputs": [
    {
     "name": "stdout",
     "output_type": "stream",
     "text": [
      "Plutón\n"
     ]
    }
   ],
   "source": [
    "#Agregando plutón\n",
    "planets.append('Plutón')\n",
    "print(planets[-1])"
   ]
  },
  {
   "cell_type": "markdown",
   "metadata": {},
   "source": [
    "### Ejercicio 2: Trabajando con datos de una lista\n",
    "### Usar slices para recuperar partes de una lista"
   ]
  },
  {
   "cell_type": "code",
   "execution_count": 6,
   "metadata": {},
   "outputs": [
    {
     "name": "stdout",
     "output_type": "stream",
     "text": [
      "Planetas más cercanos del sol que Mars: ['Mercury', 'Venus', 'Earth']\n",
      "Planetas más lejanos del sol que Mars: ['Jupiter', 'Saturn', 'Neptune']\n"
     ]
    }
   ],
   "source": [
    "# Lista de planetas\n",
    "planets = ['Mercury', 'Venus', 'Earth', 'Mars', 'Jupiter', 'Saturn', 'Neptune']\n",
    "\n",
    "#Solicitando al usuario nombre de un planeta\n",
    "nombre = input('Ingrese el nombre de un planeta (utilice la primer letra en mayúscula): ')\n",
    "posicion_planeta = planets.index(nombre)\n",
    "\n",
    "#Mostrar planetas más cercanos al sol que el que el usuario ingresó\n",
    "mas_cerca = planets[0:posicion_planeta]\n",
    "print(\"Planetas más cercanos del sol que %s: %s\"%(nombre,mas_cerca))\n",
    "mas_lejos = planets[posicion_planeta+1:len(planets)]\n",
    "print(\"Planetas más lejanos del sol que %s: %s\"%(nombre,mas_lejos))"
   ]
  }
 ],
 "metadata": {
  "interpreter": {
   "hash": "598f1c9c55308676e3da65fe009371e5afc37e9a8b7778ec641b655b8ae57715"
  },
  "kernelspec": {
   "display_name": "Python 3.10.2 64-bit (windows store)",
   "language": "python",
   "name": "python3"
  },
  "language_info": {
   "codemirror_mode": {
    "name": "ipython",
    "version": 3
   },
   "file_extension": ".py",
   "mimetype": "text/x-python",
   "name": "python",
   "nbconvert_exporter": "python",
   "pygments_lexer": "ipython3",
   "version": "3.10.2"
  },
  "orig_nbformat": 4
 },
 "nbformat": 4,
 "nbformat_minor": 2
}
