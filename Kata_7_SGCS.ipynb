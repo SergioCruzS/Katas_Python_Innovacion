{
 "cells": [
  {
   "cell_type": "markdown",
   "metadata": {},
   "source": [
    "# Kata 7\n",
    "### Ejercicio 1: Creación de un bucle \"while\"\n",
    "Sergio Gregorio Cruz Soto"
   ]
  },
  {
   "cell_type": "markdown",
   "metadata": {},
   "source": [
    "Comienza agregando dos variables, una para la entrada del usuario, con el nombre new_planet, y otra variable para la lista de planetas, denominada planets."
   ]
  },
  {
   "cell_type": "code",
   "execution_count": 16,
   "metadata": {},
   "outputs": [],
   "source": [
    "#Declarando las variables\n",
    "new_planet = \"\"\n",
    "planets = []"
   ]
  },
  {
   "cell_type": "code",
   "execution_count": 17,
   "metadata": {},
   "outputs": [
    {
     "name": "stdout",
     "output_type": "stream",
     "text": [
      "['tierra', 'jupiter', 'marte']\n"
     ]
    }
   ],
   "source": [
    "#Ciclo while\n",
    "while new_planet != 'done':\n",
    "    if new_planet != '':\n",
    "        planets.append(new_planet)\n",
    "    new_planet = input('Ingrese el nombre de un planeta: ')\n",
    "print(planets)"
   ]
  },
  {
   "cell_type": "markdown",
   "metadata": {},
   "source": [
    "### Ejercicio 2: Creación de un ciclo \"for\"\n",
    "Ejercicio: - Ciclo para una lista"
   ]
  },
  {
   "cell_type": "code",
   "execution_count": 18,
   "metadata": {},
   "outputs": [
    {
     "name": "stdout",
     "output_type": "stream",
     "text": [
      "tierra\n",
      "jupiter\n",
      "marte\n"
     ]
    }
   ],
   "source": [
    "for planet in planets:\n",
    "    print(planet)"
   ]
  }
 ],
 "metadata": {
  "interpreter": {
   "hash": "598f1c9c55308676e3da65fe009371e5afc37e9a8b7778ec641b655b8ae57715"
  },
  "kernelspec": {
   "display_name": "Python 3.10.2 64-bit (windows store)",
   "language": "python",
   "name": "python3"
  },
  "language_info": {
   "codemirror_mode": {
    "name": "ipython",
    "version": 3
   },
   "file_extension": ".py",
   "mimetype": "text/x-python",
   "name": "python",
   "nbconvert_exporter": "python",
   "pygments_lexer": "ipython3",
   "version": "3.10.2"
  },
  "orig_nbformat": 4
 },
 "nbformat": 4,
 "nbformat_minor": 2
}
